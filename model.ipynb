{
 "cells": [
  {
   "cell_type": "markdown",
   "id": "e95f1eba-5097-42ec-a569-b3030a06fc7d",
   "metadata": {},
   "source": [
    "##### <font color='red'>Warning:</font> The following code modifies data, code, and fitting files. Proceed with caution. ######"
   ]
  },
  {
   "cell_type": "markdown",
   "id": "4e811a1e-cdc2-48ff-bb60-1f7577b7e26b",
   "metadata": {},
   "source": [
    "#### Import functions ####"
   ]
  },
  {
   "cell_type": "code",
   "execution_count": 1,
   "id": "96ae5039-b420-4ab2-9cbe-7aa6389a6500",
   "metadata": {},
   "outputs": [],
   "source": [
    "from ipynb.fs.full.utilities import *"
   ]
  },
  {
   "cell_type": "markdown",
   "id": "55932e72-63d5-4dc4-bc6e-78fd22ffe0e5",
   "metadata": {
    "jp-MarkdownHeadingCollapsed": true
   },
   "source": [
    "#### Data generation ####"
   ]
  },
  {
   "cell_type": "code",
   "execution_count": null,
   "id": "5f3627c1-06c5-443a-ac8e-d8a38377be44",
   "metadata": {},
   "outputs": [],
   "source": [
    "### Generate timing and missing data (replace bigWig and MAT files) ###\n",
    "# Skip if data/whole-genome_timing_data and data/whole-genome_missing_data files already exist\n",
    "\n",
    "# Define cell lines\n",
    "cell_lines_BigWig = [\"HeLa-S3\",\"BJ1\",\"IMR90\",\"HUVEC\",\"K562\",\"GM12878\",\"HepG2\",\"MCF-7\"]\n",
    "cell_lines_HighRes = [\"H1\",\"H9\",\"HCT\"]\n",
    "cell_lines = cell_lines_BigWig + cell_lines_HighRes\n",
    "chr_numbers = range(1, 23)\n",
    "\n",
    "# Loop over cell lines, chromosomes, and intervals\n",
    "for cell_line in cell_lines:\n",
    "    for chr_number in chr_numbers:\n",
    "        file_name = f'{cell_line}_chr[{chr_number}]'\n",
    "        print(f'{cell_line} - chr {chr_number}', end=\"\\r\")\n",
    "        if cell_line in cell_lines_BigWig:\n",
    "            datagenBigWig(cell_line, chr_number, 0, 1, resolution=1000, alld=True, dtscale=6, saveQ=True, info=file_name)\n",
    "        elif cell_line in cell_lines_HighRes:\n",
    "            datagenHighRes(cell_line, chr_number, 0, 1, resolution=1000, alld=True, dtscale=6, saveQ=True, info=file_name)"
   ]
  },
  {
   "cell_type": "code",
   "execution_count": 2,
   "id": "5b3ea413-7876-483a-82db-38ada2655a2c",
   "metadata": {},
   "outputs": [],
   "source": [
    "### Generate RNA-seq (replace bigWig files) ###\n",
    "# Skip if data/rna-seq_files/ files already exist\n",
    "cell_line = \"HeLa-S3\"\n",
    "chr_numbers = range(1,23)\n",
    "for chr_number in chr_numbers:\n",
    "    file_name = cell_line+'_chr['+str(chr_number)+']'\n",
    "    datagenBigWig_RNA(cell_line, chr_number, 0, 1, 1000, alld=True, saveQ=True, info=file_name)"
   ]
  },
  {
   "cell_type": "code",
   "execution_count": 2,
   "id": "b0d10acc-c22f-4352-900f-655100e94516",
   "metadata": {},
   "outputs": [],
   "source": [
    "### Generate GRO-seq (replace bed files) ###\n",
    "# Skip if data/gro-seq_files/ files already exist\n",
    "cell_line = \"HeLa-S3\"\n",
    "chr_numbers = range(1,23)\n",
    "for chr_number in chr_numbers:\n",
    "    datagenBedgraph_GRO(cell_line, chr_number, saveQ=True)"
   ]
  },
  {
   "cell_type": "code",
   "execution_count": 3,
   "id": "a3a04ea8-f3e2-4af8-87b6-daa97894ba40",
   "metadata": {},
   "outputs": [],
   "source": [
    "### Generate DNase-I HS (replace narrowPeak files) ###\n",
    "cell_line = \"HeLa-S3\"\n",
    "datagennarrowPeak_DHS(cell_line, saveQ=True)"
   ]
  },
  {
   "cell_type": "code",
   "execution_count": null,
   "id": "c4160ce7-6943-4d47-9d87-2ed85cddc662",
   "metadata": {},
   "outputs": [],
   "source": [
    "# Apparent replication rate (\"fork speed\")\n",
    "cell_lines = [\"HeLa-S3\",\"BJ1\",\"IMR90\",\"HUVEC\",\"K562\",\"GM12878\",\"HepG2\",\"MCF-7\",\"H1\",\"H9\",\"HCT\"]\n",
    "chr_numbers = range(1,23)\n",
    "for cell_line in cell_lines:\n",
    "    for chr_number in chr_numbers:\n",
    "        timedata = load_function(cell_line, chr_number, \"time_data\")\n",
    "        timesim = load_function(cell_line, chr_number, \"time_sim\")\n",
    "        datagen_speed(cell_line, chr_number, timedata, timesim)"
   ]
  },
  {
   "cell_type": "markdown",
   "id": "1a870db3-1cb0-4b6a-9bcc-bc272b9c353c",
   "metadata": {
    "jp-MarkdownHeadingCollapsed": true
   },
   "source": [
    "#### Fitting ####"
   ]
  },
  {
   "cell_type": "code",
   "execution_count": null,
   "id": "0b1e940f-cde7-4ebf-80e5-e88dd1580524",
   "metadata": {},
   "outputs": [],
   "source": [
    "# Model parameters\n",
    "cell_line = \"HeLa-S3\"\n",
    "chr_number = 1\n",
    "hpcQ = False # Option to run in HPC for whole-genome results\n",
    "if hpcQ:\n",
    "    parser = argparse.ArgumentParser()\n",
    "    parser.add_argument(\"-cl\", required=False)\n",
    "    parser.add_argument(\"-cn\", required=False)\n",
    "    args = parser.parse_args()\n",
    "    if len(sys.argv)>1 :\n",
    "        if '-cl' in sys.argv:\n",
    "            cell_line = str(args.cl)\n",
    "        if '-cn' in sys.argv:\n",
    "            chr_number = int(args.cn)\n",
    "\n",
    "chrpos_min = 10000\n",
    "chrpos_max = 20000\n",
    "x = np.linspace(chrpos_min, chrpos_max, chrpos_max - chrpos_min)  # Chromosome positions\n",
    "fork_speed = 1.4 # Fork speed\n",
    "resolution = 1000 # (1 kb)\n",
    "scale_factor = 6 # Scales the data\n",
    "all_dataQ = False # Picks whether to fit an entire genome\n",
    "\n",
    "\n",
    "# Fitting parameters\n",
    "int_width = 2000\n",
    "def int_widthf(time_data): return int(len(time_data)/int_width)\n",
    "fit_step = 2\n",
    "iterations = 100\n",
    "err_threshold = 15\n",
    "\n",
    "# Saving (Warning: replaces existing files)\n",
    "saveQ = False\n",
    "file_name = f'{cell_line}_chr[{chr_number}]' if all_dataQ else f'{cell_line}_chr[{chr_number}]_{chrpos_min}-{chrpos_max}'\n",
    "\n",
    "# Single files\n",
    "sing_filesQ = True\n",
    "if sing_filesQ:\n",
    "    # Data generation\n",
    "    time_data = datagenfs(cell_line, chr_number, chrpos_min, chrpos_max, resolution, all_dataQ, scale_factor, saveQ, file_name)\n",
    "    # Fitting\n",
    "    fire_rates, time_sim = fitfunction(time_data, fork_speed, int_widthf(time_data), fit_step, iterations, err_threshold, saveQ, file_name)\n",
    "\n",
    "# Multiple file fitting (long computation)\n",
    "mult_fileQ = False\n",
    "if mult_fileQ:\n",
    "    # Whole-genome parameters\n",
    "    cell_lines = [\"HeLa-S3\",\"BJ1\",\"IMR90\",\"HUVEC\",\"K562\",\"GM12878\",\"HepG2\",\"MCF-7\"]\n",
    "    chr_range = range(1,23)\n",
    "    for cell_line_i in cell_lines:\n",
    "        for chr_number_i in chr_range:\n",
    "            print(cell_line_i+' chr '+str(chr_number_i)+'/22')\n",
    "            file_name = cell_line_i+'_chr['+str(chr_number_i)+']' if all_dataQ else cell_line_i+'_chr['+str(chr_number_i)+']_'+str(chrpos_min)+'-'+str(chrpos_max)\n",
    "            # Data generation\n",
    "            time_data = datagenfs(cell_line_i, chr_number_i, chrpos_min, chrpos_max, resolution, all_dataQ, scale_factor, saveQ, file_name)\n",
    "            # Fitting\n",
    "            fire_rates, time_sim = fitfunction(time_data, fork_speed, int_widthf(time_data), fit_step, iterations, err_threshold, saveQ, file_name)"
   ]
  },
  {
   "cell_type": "markdown",
   "id": "247dee94-294d-4d3e-8fef-6d47925ab06d",
   "metadata": {
    "jp-MarkdownHeadingCollapsed": true
   },
   "source": [
    "#### bedgraph file generation ####"
   ]
  },
  {
   "cell_type": "code",
   "execution_count": 2,
   "id": "68eee853-1cf3-43f5-a675-2fcdbdf7e736",
   "metadata": {},
   "outputs": [
    {
     "name": "stdout",
     "output_type": "stream",
     "text": [
      "BEDGRAPH file created: data/whole-genome_firing_rates/bedgraph_files/fire_rates_HCT.bedgraphphph\r"
     ]
    }
   ],
   "source": [
    "data_types = ['error', 'fire_rates']\n",
    "\n",
    "cell_lines = [\"HeLa-S3\",\"BJ1\",\"IMR90\",\"HUVEC\",\"K562\",\"GM12878\",\"HepG2\",\"MCF-7\"]\n",
    "genome_build = 'hg19'\n",
    "for data_type in data_types:\n",
    "    for cell_line in cell_lines:\n",
    "        txt_to_bedgraph(cell_line, data_type=data_type, genome_build=genome_build)\n",
    "\n",
    "cell_lines = [\"H1\",\"H9\",\"HCT\"]\n",
    "genome_build = 'hg38'\n",
    "for data_type in data_types:\n",
    "    for cell_line in cell_lines:\n",
    "        txt_to_bedgraph(cell_line, data_type=data_type, genome_build=genome_build)"
   ]
  },
  {
   "cell_type": "markdown",
   "id": "63f9e213-70ff-49d1-995b-ad1ab966580b",
   "metadata": {
    "jp-MarkdownHeadingCollapsed": true
   },
   "source": [
    "#### BCS file generation ####"
   ]
  },
  {
   "cell_type": "code",
   "execution_count": null,
   "id": "cc7a96e7-7703-4403-8316-322e02f70783",
   "metadata": {},
   "outputs": [],
   "source": [
    "# Skip if data/bcs_scripts files already exist\n",
    "# These should be run using Beacon Calculus. HPC recommended.\n",
    "# Single files #\n",
    "sing_filesQ = False\n",
    "if sing_filesQ:\n",
    "\n",
    "    cell_line = \"HeLa-S3\"\n",
    "    chr_number = 1\n",
    "    chrpos_min = 3000\n",
    "    chrpos_max = 3200\n",
    "    fork_speed = 1.4\n",
    "    resolution = 1000 # (1 kb)\n",
    "    fire_rates = np.loadtxt('data/whole-genome_firing_rates/fire_rates_' + cell_line + '_chr[' + str(chr_number) + '].txt', dtype='float64')[chrpos_min:chrpos_max]\n",
    "    \n",
    "    bcs_gen(cell_line, chr_number, chrpos_min, chrpos_max, fork_speed, fire_rates, resolution)\n",
    "\n",
    "# Multiple bcs generation (long computation) #\n",
    "mult_fileQ = False\n",
    "if mult_fileQ:\n",
    "    \n",
    "    cell_lines = [\"HeLa-S3\",\"BJ1\",\"IMR90\",\"HUVEC\",\"K562\",\"GM12878\",\"HepG2\",\"MCF-7\",\"H1\",\"H9\",\"HCT\"]\n",
    "    chr_range = range(1,23)\n",
    "    fork_speed = 1.4\n",
    "    resolution = 1000\n",
    "    \n",
    "    for cell_line_i in cell_lines:\n",
    "        \n",
    "        for chr_number_i in chr_range:\n",
    "            \n",
    "            fire_rates = np.loadtxt('data/whole-genome_firing_rates/fire_rates_' + cell_line_i + '_chr[' + str(chr_number_i) + '].txt', dtype='float64')\n",
    "            int_step = 10000 # sets the number of bcs simulation points\n",
    "            partition_intervals = [[i, min(i + int_step, len(fire_rates))] for i in range(0, len(fire_rates), int_step)]\n",
    "            \n",
    "            for partition_intervals_i in partition_intervals:\n",
    "                \n",
    "                bcs_gen(cell_line_i, chr_number_i, partition_intervals_i[0], partition_intervals_i[1], fork_speed, fire_rates[partition_intervals_i[0]:partition_intervals_i[1]], resolution)"
   ]
  },
  {
   "cell_type": "markdown",
   "id": "b54c62b5-a0e7-41c0-a790-f7458c98cc09",
   "metadata": {},
   "source": [
    "#### BCS simulation output ####"
   ]
  },
  {
   "cell_type": "code",
   "execution_count": null,
   "id": "993e1773-054f-4cbf-a21c-3c147f48ab9e",
   "metadata": {},
   "outputs": [],
   "source": [
    "# Example usage\n",
    "cell_lines = [\"HeLa-S3\"]\n",
    "chr_numbers = [1]\n",
    "sim_number=2\n",
    "\n",
    "process_intervals(cell_lines, chr_numbers, sim_number=sim_number)"
   ]
  },
  {
   "cell_type": "code",
   "execution_count": 5,
   "id": "bf24696c-b74f-4ddc-95eb-1b100af815f9",
   "metadata": {},
   "outputs": [],
   "source": [
    "cell_lines = [\"HUVEC\",\"HeLa-S3\",\"HCT\",\"IMR90\",\"K562\"]\n",
    "chr_numbers = [1]\n",
    "\n",
    "compute_interorigin_intervals(cell_lines, chr_numbers)"
   ]
  },
  {
   "cell_type": "code",
   "execution_count": 4,
   "id": "dbf51ea3-8065-48e5-a176-eaf925e40add",
   "metadata": {},
   "outputs": [],
   "source": [
    "# Join all 10,000 kb files into one\n",
    "cell_lines = [\"HUVEC\",\"HeLa-S3\",\"HCT\",\"IMR90\",\"K562\"]\n",
    "chr_number = 1\n",
    "for cell_line in cell_lines:\n",
    "    join_files(cell_line, chr_number, \"fork_directionality\")"
   ]
  },
  {
   "cell_type": "markdown",
   "id": "48d31194-6c34-44d9-8a9d-0259e917c88f",
   "metadata": {},
   "source": [
    "#### Genome location generation ####"
   ]
  },
  {
   "cell_type": "code",
   "execution_count": 2,
   "id": "ce258a2e-587b-4bae-a839-8dc985d2aa08",
   "metadata": {},
   "outputs": [],
   "source": [
    "# Centromeres and telomeres\n",
    "for chr_number in range(1,23):\n",
    "    gen_positions_centromere_telomeres(chr_number)"
   ]
  },
  {
   "cell_type": "code",
   "execution_count": 2,
   "id": "5bd856e8-73ba-433f-a01a-088053ec12ec",
   "metadata": {},
   "outputs": [],
   "source": [
    "# Fragile sites\n",
    "for chr_number in range(1,23):\n",
    "    for site_letter in list(string.ascii_uppercase[:13]):\n",
    "        gen_positions_fragile_sites(chr_number, site_letter)"
   ]
  },
  {
   "cell_type": "code",
   "execution_count": 2,
   "id": "ec77cdba-0367-4818-817b-91069df29e7f",
   "metadata": {},
   "outputs": [],
   "source": [
    "# Base regions\n",
    "# Requires hg38.fa.gz from http://hgdownload.soe.ucsc.edu/goldenPath/hg38/bigZips/hg38.fa.gz\n",
    "local_genome_file = 'data/genome_regions/reference_genome/hg38.fa.gz'\n",
    "gen_positions_bases(local_genome_file, chr_lengths)"
   ]
  },
  {
   "cell_type": "code",
   "execution_count": null,
   "id": "c8236c12-4e38-4264-ac38-b3f9a248314e",
   "metadata": {},
   "outputs": [],
   "source": [
    "# Coding genes\n",
    "generate_coding_intervals_and_positions()\n",
    "for chr_number in range(1,23):\n",
    "    process_coding_file(chr_number) "
   ]
  },
  {
   "cell_type": "code",
   "execution_count": 1,
   "id": "be29642f-2cbc-4230-893c-3e277bfa4b8e",
   "metadata": {},
   "outputs": [],
   "source": [
    "# Misfit genes (whole-genome)\n",
    "gene_detector_error()\n",
    "\n",
    "# Table generator (larger misfit genes)\n",
    "data_dir = \"data/genome_regions/genes\"\n",
    "chromosome_numbers = range(1, 23)\n",
    "genes_by_chromosome = {}\n",
    "\n",
    "for chr_number in chromosome_numbers:\n",
    "    file_path = f\"{data_dir}/gene_error_chr[{chr_number}].txt\"\n",
    "    if os.path.exists(file_path):\n",
    "        genes = np.loadtxt(file_path, dtype=str, ndmin=1)\n",
    "        genes_by_chromosome[f\"chr_{chr_number}\"] = genes\n",
    "    else:\n",
    "        genes_by_chromosome[f\"chr_{chr_number}\"] = []\n",
    "\n",
    "gene_df = pd.DataFrame(dict([(k, pd.Series(v)) for k, v in genes_by_chromosome.items()]))\n",
    "gene_df.to_csv(\"data/tables/genes_by_chromosome.csv\", index=False)\n"
   ]
  },
  {
   "cell_type": "code",
   "execution_count": null,
   "id": "f972e0d0-5d1e-4de9-8630-406da1eee159",
   "metadata": {},
   "outputs": [],
   "source": [
    "# Example usage for a specific chromosome\n",
    "chr_number = 11\n",
    "genes, fragile_sites = gene_detector_fragile_sites(chr_number)\n",
    "\n",
    "# Print the results\n",
    "for gene, site in zip(genes, fragile_sites):\n",
    "    print(f\"Gene {gene} overlaps with {site}\")"
   ]
  },
  {
   "cell_type": "markdown",
   "id": "24948334-1290-45de-827c-a032172d2471",
   "metadata": {
    "jp-MarkdownHeadingCollapsed": true
   },
   "source": [
    "#### GRO-Seq generation ####"
   ]
  },
  {
   "cell_type": "code",
   "execution_count": null,
   "id": "8b5a559f-5db9-4b0e-bbdd-21fbc4ebea19",
   "metadata": {},
   "outputs": [],
   "source": [
    "# Requires BED files from https://www.ncbi.nlm.nih.gov/geo/query/acc.cgi?acc=GSM340901 (IMR90)"
   ]
  },
  {
   "cell_type": "markdown",
   "id": "3392f7c4-16fd-4029-9f7f-df6a0f7a4bf4",
   "metadata": {
    "jp-MarkdownHeadingCollapsed": true
   },
   "source": [
    "#### Correlations ####"
   ]
  },
  {
   "cell_type": "code",
   "execution_count": 2,
   "id": "7fda2289-097d-42ea-b014-203bc75b4954",
   "metadata": {},
   "outputs": [],
   "source": [
    "# Example usage\n",
    "cell_lines = [\"K562\",\"HUVEC\",\"HeLa-S3\"]\n",
    "chr_numbers = range(1,23)  # Example chromosomes\n",
    "data_types1 = [\"error\", \"fire_rates\"]  # First list of data types\n",
    "data_types2 = [\"gro_seq\", \"rna_seq\", \"chip_seq\", \"DNaseIHS\", \"prom\"]  # Second list of data types\n",
    "output_file = \"data/tables/correlations.csv\"\n",
    "\n",
    "# Run the correlation tests and export the results to CSV\n",
    "correlation_tests_to_csv(cell_lines, chr_numbers, data_types1, data_types2, output_file, chrmin=30000, chrmax=220000, smoothQ2=True)"
   ]
  },
  {
   "cell_type": "code",
   "execution_count": null,
   "id": "f087d9ee-206d-49f3-bed6-e3c3570d37ea",
   "metadata": {},
   "outputs": [],
   "source": []
  }
 ],
 "metadata": {
  "kernelspec": {
   "display_name": "Python 3 (ipykernel)",
   "language": "python",
   "name": "python3"
  },
  "language_info": {
   "codemirror_mode": {
    "name": "ipython",
    "version": 3
   },
   "file_extension": ".py",
   "mimetype": "text/x-python",
   "name": "python",
   "nbconvert_exporter": "python",
   "pygments_lexer": "ipython3",
   "version": "3.12.3"
  }
 },
 "nbformat": 4,
 "nbformat_minor": 5
}
