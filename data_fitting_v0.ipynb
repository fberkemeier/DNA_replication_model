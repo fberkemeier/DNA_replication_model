{
 "cells": [
  {
   "cell_type": "markdown",
   "id": "b3feaf6e-b601-4f38-936d-1e03d3743edc",
   "metadata": {},
   "source": [
    "# Data generation and fitting"
   ]
  },
  {
   "cell_type": "markdown",
   "id": "43054789-bd5e-4564-86cf-3cb11c8f07fe",
   "metadata": {},
   "source": [
    "### Fitting algorithm"
   ]
  },
  {
   "cell_type": "code",
   "execution_count": 29,
   "id": "9cee1c99-7f49-4909-99c5-0722149ae3a8",
   "metadata": {},
   "outputs": [],
   "source": [
    "from time import monotonic\n",
    "import cProfile\n",
    "from typing import Any\n",
    "import argparse\n",
    "import sys\n",
    "import numpy as np\n",
    "import scipy.optimize\n",
    "import math\n",
    "import os\n",
    "import time\n",
    "import pybigtools\n",
    "\n",
    "def fitfunction(list, v0, st0, fit_step, maxiter, err_threshold, saveQ, info):\n",
    "    \n",
    "    timel = list\n",
    "    \n",
    "    v = v0\n",
    "    st = st0\n",
    "    exp_v = np.exp(-1/v)\n",
    "    x00 = np.array([(math.pi/(4*v))*i**(-2) for i in timel])\n",
    "    lm = 1000 # Remove end regions for error calculation\n",
    "    \n",
    "    # VECTORIZED APPROACH\n",
    "    \n",
    "    def mse(y_true, y_pred):\n",
    "        mse_value = sum((yt - yp) ** 2 for yt, yp in zip(y_true, y_pred)) / len(y_true)\n",
    "        return mse_value\n",
    "    \n",
    "    def fast_roll_add(dst, src, shift):\n",
    "        dst[shift:] += src[:-shift]\n",
    "        dst[:shift] += src[-shift:]\n",
    "    \n",
    "    # Expected replication time computation (replaces bcs)\n",
    "    def fp(x, L, v):\n",
    "        n = len(x)\n",
    "        y = np.zeros(n)\n",
    "    \n",
    "        last_exp_2_raw = np.zeros(n)\n",
    "        last_exp_2 = np.ones(n)\n",
    "        unitary = x.copy()\n",
    "        for k in range(L+1):\n",
    "            if k != 0:\n",
    "                fast_roll_add(unitary, x, k)\n",
    "                fast_roll_add(unitary, x, -k)\n",
    "            exp_1_raw = last_exp_2_raw\n",
    "            exp_1 = last_exp_2\n",
    "            exp_2_raw = exp_1_raw + unitary / v\n",
    "            exp_2 = np.exp(-exp_2_raw)\n",
    "    \n",
    "            # Compute the weighted sum for each j and add to the total\n",
    "            y += (exp_1 - exp_2) / unitary\n",
    "            \n",
    "            last_exp_2_raw = exp_2_raw\n",
    "            last_exp_2 = exp_2\n",
    "        return y\n",
    "\n",
    "    # Fitting iteration\n",
    "    def fitf(time, lst, x0, j, fit_step):\n",
    "        return x0[j] * (lst[j] / time[j])**(fit_step)\n",
    "\n",
    "    # Alternative fitting\n",
    "    def fitf0(time, lst, x0, j, fit_step):\n",
    "        return x0[j]**(np.log(time[j]) / np.log(lst[j]))\n",
    "\n",
    "    # Fitting control\n",
    "    def cfit(time, lst, x0, fit_step):\n",
    "        result = np.empty_like(x0)\n",
    "        for j in range(len(x0)):\n",
    "            fit_result = fitf(time, lst, x0, j, fit_step)\n",
    "            if fit_result < 10**(-err_threshold):\n",
    "                result[j] = 10**(-err_threshold)\n",
    "            #elif abs(time[j] - lst[j]) < .5:\n",
    "            #    result[j] = x0[j]\n",
    "            else:\n",
    "                result[j] = fit_result       \n",
    "        return result\n",
    "    \n",
    "    xs = x00\n",
    "    ys = fp(xs, len(xs)//st, v)\n",
    "    err = 10**10\n",
    "    \n",
    "    for j in range(maxiter):\n",
    "        xs0 = xs\n",
    "        ys0 = ys\n",
    "        xs = cfit(timel, ys, xs, fit_step)\n",
    "        ys = fp(xs, len(xs)//st, v)\n",
    "        \n",
    "        new_err = mse(timel[lm:-lm], ys[lm:-lm])\n",
    "        print(str(j+1) + '/' + str(maxiter) + ' err: ' + str('{:.30f}'.format(new_err)), end=\"\\r\")\n",
    "        \n",
    "        err = new_err  # Update the error with the new calculated error\n",
    "\n",
    "    fire_rates = ['{:.30f}'.format(i) for i in xs]\n",
    "    time_sim = ys\n",
    "    \n",
    "    if saveQ:\n",
    "        with open(r'data/whole-genome_firing_rates/fire_rates_'+info+'.txt', 'w') as f:\n",
    "            for rate in fire_rates:\n",
    "                f.write(rate + '\\n')\n",
    "        np.savetxt(r'data/whole-genome_timing_simulation/time_sim_'+info+'.txt', time_sim, fmt='%.30f')\n",
    "    \n",
    "    return [fire_rates, time_sim]"
   ]
  },
  {
   "cell_type": "markdown",
   "id": "e1e8d57d",
   "metadata": {},
   "source": [
    "### Data generation"
   ]
  },
  {
   "cell_type": "code",
   "execution_count": 23,
   "id": "5d12893e-6e5b-43fe-bb53-94d2d57ac30b",
   "metadata": {},
   "outputs": [],
   "source": [
    "# From bigWig files at https://genome.ucsc.edu/cgi-bin/hgFileUi?db=hg19&g=wgEncodeUwRepliSeq\n",
    "\n",
    "def datagenf(cell_line, chr, minp, maxp, resolution, alld, dtscale, saveQ, info):\n",
    "\n",
    "    file_path = 'data/bigwig_files/'+cell_line+'.bigWig'\n",
    "    bw = pybigtools.open(open(file_path, 'rb'))\n",
    "    time_data_all = bw.values('chr'+str(chr))\n",
    "    \n",
    "    if alld == False:\n",
    "        time_data_all = bw.values('chr'+str(chr), minp*resolution, maxp*resolution)\n",
    "    \n",
    "    # Sample equally spaced values from `time_data_all` with the given resolution\n",
    "    time_data = np.array(time_data_all[::resolution])\n",
    "    \n",
    "    # Find positions with 'nan' or less than 0\n",
    "    invalid_positions = np.where(np.isnan(time_data) | (time_data <= 0))[0]\n",
    "    \n",
    "    # Filter the time_data\n",
    "    time_data = np.nan_to_num(time_data, nan=0.001)  # Map 'nan' to 0\n",
    "    time_data[time_data <= 0] = 0.001  # Map values less than 0 to 0.001\n",
    "    time_data[time_data > 100] = 100  # Map values greater than 100 to 100\n",
    "    time_data = dtscale * time_data\n",
    "\n",
    "    if saveQ: # Option to save real timing data (Repli-Seq) as a separate .txt file\n",
    "        np.savetxt(f\"data/whole-genome_timing_data/time_data_{info}.txt\", time_data, fmt='%.30f')\n",
    "        np.savetxt(f\"data/whole-genome_missing_data/missing_data_{info}.txt\", invalid_positions, fmt='%d')\n",
    "    \n",
    "    return time_data"
   ]
  },
  {
   "cell_type": "markdown",
   "id": "f2682886-1590-475a-8eac-f5e1dd2852d5",
   "metadata": {},
   "source": [
    "### Generate data (replace bigWig files)"
   ]
  },
  {
   "cell_type": "code",
   "execution_count": 119,
   "id": "c6b1be91-a6ce-4657-9c29-340d7752bd5c",
   "metadata": {},
   "outputs": [],
   "source": [
    "# Define cell lines\n",
    "cell_lines = [\"HeLa-S3\",\"BJ1\",\"IMR90\",\"HUVEC\",\"K562\",\"GM12878\",\"HepG2\",\"MCF-7\"]\n",
    "\n",
    "# Loop over cell lines, chromosomes, and intervals\n",
    "for cell_line in cell_lines:\n",
    "    for chr_number in range(1, 23):\n",
    "        file_name = cell_line+'_chr['+str(chr_number)+']'\n",
    "        datagenf(cell_line, chr_number, 0, 1, resolution=1000, alld=True, dtscale=5, saveQ=True, info=file_name)"
   ]
  },
  {
   "cell_type": "markdown",
   "id": "cdf6764a-ba0d-45fc-8a53-efb23153b92c",
   "metadata": {},
   "source": [
    "### Simple data generation function"
   ]
  },
  {
   "cell_type": "code",
   "execution_count": 25,
   "id": "4bfee8b1-b422-4b19-99b3-f949e4dcf66c",
   "metadata": {},
   "outputs": [],
   "source": [
    "def datagenfs(cell_line, chr_number, chrpos_min, chrpos_max, resolution, alld, dtscale, saveQ, info):\n",
    "    if alld:\n",
    "        time_data = np.loadtxt('data/whole-genome_timing_data/time_data_'+cell_line+'_chr['+str(chr_number)+'].txt', dtype=float)\n",
    "    else:\n",
    "        time_data = np.loadtxt('data/whole-genome_timing_data/time_data_'+cell_line+'_chr['+str(chr_number)+'].txt', dtype=float)[chrpos_min:chrpos_max]\n",
    "        np.savetxt(f\"data/whole-genome_timing_data/time_data_{cell_line}_chr[{chr_number}]_{chrpos_min}-{chrpos_max}.txt\", time_data, fmt='%.30f')\n",
    "    return time_data"
   ]
  },
  {
   "cell_type": "markdown",
   "id": "e980dae9-3c4e-48be-a9c0-8a718e226691",
   "metadata": {},
   "source": [
    "### Exampe: fitting"
   ]
  },
  {
   "cell_type": "code",
   "execution_count": 31,
   "id": "29e684dc-14c9-48df-bfd7-7baa96004d17",
   "metadata": {},
   "outputs": [
    {
     "name": "stdout",
     "output_type": "stream",
     "text": [
      "100/100 err: 191.211654430985873887038906104863\r"
     ]
    }
   ],
   "source": [
    "# Model parameters\n",
    "cell_line = \"HeLa-S3\"\n",
    "chr_number = 1\n",
    "hpcQ = False\n",
    "if hpcQ:\n",
    "    parser = argparse.ArgumentParser()\n",
    "    parser.add_argument(\"-cl\", required=False)\n",
    "    parser.add_argument(\"-cn\", required=False)\n",
    "    args = parser.parse_args()\n",
    "    if len(sys.argv)>1 :\n",
    "        if '-cl' in sys.argv:\n",
    "            cell_line = str(args.cl)\n",
    "        if '-cn' in sys.argv:\n",
    "            chr_number = int(args.cn)\n",
    "\n",
    "chrpos_min = 65000\n",
    "chrpos_max = 85000\n",
    "x = np.linspace(chrpos_min, chrpos_max, chrpos_max - chrpos_min)  # Chromosome positions\n",
    "fork_speed = 1.4\n",
    "resolution = 1000 # (1 kb)\n",
    "scale_factor = 5\n",
    "all_dataQ = True # Picks whether to fit an entire genome\n",
    "file_name = cell_line+'_chr['+str(chr_number)+']' if all_dataQ else cell_line+'_chr['+str(chr_number)+']_'+str(chrpos_min)+'-'+str(chrpos_max)\n",
    "\n",
    "# Fitting parameters\n",
    "int_width = 2000\n",
    "def int_widthf(time_data): return int(len(time_data)/int_width)\n",
    "fit_step = 2\n",
    "iterations = 100\n",
    "err_threshold = 15\n",
    "\n",
    "# Saving (Warning: might replace original files)\n",
    "saveQ = True\n",
    "file_name = cell_line+'_chr['+str(chr_number)+']' if all_dataQ else cell_line+'_chr['+str(chr_number)+']_'+str(chrpos_min)+'-'+str(chrpos_max)\n",
    "\n",
    "# Single files #\n",
    "sing_filesQ = True\n",
    "if sing_filesQ:\n",
    "    # Data generation\n",
    "    time_data = datagenfs(cell_line, chr_number, chrpos_min, chrpos_max, resolution, all_dataQ, scale_factor, saveQ, file_name)\n",
    "    # Fitting\n",
    "    fire_rates, time_sim = fitfunction(time_data, fork_speed, int_widthf(time_data), fit_step, iterations, err_threshold, saveQ, file_name)\n",
    "\n",
    "# Multiple file fitting (long computation) #\n",
    "mult_fileQ = False\n",
    "if mult_fileQ:\n",
    "    # Whole-genome parameters\n",
    "    cell_lines = [\"HeLa-S3\",\"BJ1\",\"IMR90\",\"HUVEC\",\"K562\",\"GM12878\",\"HepG2\",\"MCF-7\"]\n",
    "    chr_range = range(1,23)\n",
    "    for cell_line_i in cell_lines:\n",
    "        for chr_number_i in chr_range:\n",
    "            print(cell_line_i+' chr '+str(chr_number_i)+'/22')\n",
    "            file_name = cell_line_i+'_chr['+str(chr_number_i)+']' if all_dataQ else cell_line_i+'_chr['+str(chr_number_i)+']_'+str(chrpos_min)+'-'+str(chrpos_max)\n",
    "            # Data generation\n",
    "            time_data = datagenfs(cell_line_i, chr_number_i, chrpos_min, chrpos_max, resolution, all_dataQ, scale_factor, saveQ, file_name)\n",
    "            # Fitting\n",
    "            fire_rates, time_sim = fitfunction(time_data, fork_speed, int_widthf(time_data), fit_step, iterations, err_threshold, saveQ, file_name)"
   ]
  },
  {
   "cell_type": "markdown",
   "id": "96f336c4-ffd9-4f7b-9b20-61fab587fa73",
   "metadata": {},
   "source": [
    "# Replication timing plots"
   ]
  },
  {
   "cell_type": "markdown",
   "id": "ff234569",
   "metadata": {},
   "source": [
    "### Plotting function"
   ]
  },
  {
   "cell_type": "code",
   "execution_count": 4,
   "id": "997e7d1d-0023-4ad1-bb6f-1d4a6a17714b",
   "metadata": {},
   "outputs": [],
   "source": [
    "import matplotlib.pyplot as plt\n",
    "import numpy as np\n",
    "\n",
    "def rt_plotf(cell_line, chr_number, chrpos_min, chrpos_max, fork_speed, scale_factor, resolution, file_name, spec_fileQ, saveQ):\n",
    "\n",
    "    # Data loading (Warning: requires saving data in fitting procedure)\n",
    "    # Choose between whole-genome files or particular simulation\n",
    "    if spec_fileQ:\n",
    "        time_data = np.loadtxt('data/whole-genome_timing_data/time_data_'+cell_line+'_chr['+str(chr_number)+']_'+str(chrpos_min)+'-'+str(chrpos_max)+'.txt', dtype=float)\n",
    "        time_sim = np.loadtxt('data/whole-genome_timing_simulation/time_sim_'+cell_line+'_chr['+str(chr_number)+']_'+str(chrpos_min)+'-'+str(chrpos_max)+'.txt', dtype=float)\n",
    "    else:\n",
    "        time_data = np.loadtxt('data/whole-genome_timing_data/time_data_'+cell_line+'_chr['+str(chr_number)+'].txt', dtype=float)[chrpos_min:chrpos_max]\n",
    "        time_sim = np.loadtxt('data/whole-genome_timing_simulation/time_sim_'+cell_line+'_chr['+str(chr_number)+'].txt', dtype=float)[chrpos_min:chrpos_max]\n",
    "    x = np.linspace(chrpos_min, chrpos_max, chrpos_max - chrpos_min)  # Chromosome positions\n",
    "    \n",
    "    # Plotting\n",
    "    plt.figure(figsize=(10, 6))\n",
    "    plt.plot(x, time_data, label='data', color='gray', linewidth=4,alpha=0.6)\n",
    "    plt.plot(x, time_sim, label='bcs', color='red', linewidth=4,alpha=0.6)\n",
    "    plt.title(cell_line+' - Chromosome '+str(chr_number))\n",
    "    plt.xlabel('Chromosome position (kb)')\n",
    "    plt.ylabel('Time in S-phase (min)')\n",
    "    plt.ylim(100 * scale_factor, 0)\n",
    "    plt.legend()\n",
    "    plt.grid(True)\n",
    "    \n",
    "    ax = plt.gca()\n",
    "    ax.grid(False)\n",
    "    ax.tick_params(axis='both', which='both', direction='out')\n",
    "    for spine in ax.spines.values():\n",
    "        spine.set_visible(True)\n",
    "    \n",
    "    # Save plot\n",
    "    if saveQ:\n",
    "        plt.savefig('figures/plot_RT_'+file_name+'.svg', bbox_inches='tight',transparent=True)\n",
    "    \n",
    "    plt.show()"
   ]
  },
  {
   "cell_type": "markdown",
   "id": "a49a4e4c",
   "metadata": {},
   "source": [
    "### Plotting examples"
   ]
  },
  {
   "cell_type": "code",
   "execution_count": 6,
   "id": "1424ae27-6428-493f-b164-0a826ad2e5e5",
   "metadata": {},
   "outputs": [
    {
     "data": {
      "image/png": "[encoded data removed]",
      "text/plain": [
       "<Figure size 1000x600 with 1 Axes>"
      ]
     },
     "metadata": {},
     "output_type": "display_data"
    }
   ],
   "source": [
    "# Model parameters\n",
    "cell_line = \"HeLa-S3\"\n",
    "chr_number = 1\n",
    "chrpos_min = 40000\n",
    "chrpos_max = 50000\n",
    "fork_speed = 1.4\n",
    "scale_factor = 5\n",
    "resolution = 1000 # (1 kb)\n",
    "file_name = cell_line+'_chr['+str(chr_number)+']_'+str(chrpos_min)+'-'+str(chrpos_max)\n",
    "saveQ = False\n",
    "spec_fileQ = False\n",
    "\n",
    "rt_plotf(cell_line, chr_number, chrpos_min, chrpos_max, fork_speed, scale_factor, resolution, file_name, spec_fileQ, saveQ)"
   ]
  }
 ],
 "metadata": {
  "kernelspec": {
   "display_name": "Python 3 (ipykernel)",
   "language": "python",
   "name": "python3"
  },
  "language_info": {
   "codemirror_mode": {
    "name": "ipython",
    "version": 3
   },
   "file_extension": ".py",
   "mimetype": "text/x-python",
   "name": "python",
   "nbconvert_exporter": "python",
   "pygments_lexer": "ipython3",
   "version": "3.12.3"
  }
 },
 "nbformat": 4,
 "nbformat_minor": 5
}
