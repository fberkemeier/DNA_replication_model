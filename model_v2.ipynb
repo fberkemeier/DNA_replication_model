{
 "cells": [
  {
   "cell_type": "markdown",
   "id": "e95f1eba-5097-42ec-a569-b3030a06fc7d",
   "metadata": {},
   "source": [
    "##### <font color='red'>Warning:</font> The following code modifies data, code, and fitting files. Proceed with caution. ######"
   ]
  },
  {
   "cell_type": "markdown",
   "id": "4e811a1e-cdc2-48ff-bb60-1f7577b7e26b",
   "metadata": {},
   "source": [
    "#### Import functions ####"
   ]
  },
  {
   "cell_type": "code",
   "execution_count": 1,
   "id": "96ae5039-b420-4ab2-9cbe-7aa6389a6500",
   "metadata": {},
   "outputs": [],
   "source": [
    "from ipynb.fs.full.utilities_v2 import *"
   ]
  },
  {
   "cell_type": "markdown",
   "id": "55932e72-63d5-4dc4-bc6e-78fd22ffe0e5",
   "metadata": {
    "jp-MarkdownHeadingCollapsed": true
   },
   "source": [
    "#### Data generation ####"
   ]
  },
  {
   "cell_type": "code",
   "execution_count": null,
   "id": "5f3627c1-06c5-443a-ac8e-d8a38377be44",
   "metadata": {},
   "outputs": [],
   "source": [
    "### Generate data (replace bigWig and MAT files) ###\n",
    "# Skip if data/whole-genome_timing_data and data/whole-genome_missing_data files already exist\n",
    "\n",
    "# Define cell lines\n",
    "cell_lines_BigWig = [\"HeLa-S3\",\"BJ1\",\"IMR90\",\"HUVEC\",\"K562\",\"GM12878\",\"HepG2\",\"MCF-7\"]\n",
    "cell_lines_HighRes = [\"H1\",\"H9\",\"HCT\"]\n",
    "cell_lines = cell_lines_BigWig + cell_lines_HighRes\n",
    "chr_numbers = range(1, 23)\n",
    "\n",
    "# Loop over cell lines, chromosomes, and intervals\n",
    "for cell_line in cell_lines:\n",
    "    for chr_number in chr_numbers:\n",
    "        file_name = cell_line+'_chr['+str(chr_number)+']'\n",
    "        print(f'{cell_line} - chr {chr_number}', end=\"\\r\")\n",
    "        if cell_line in cell_lines_BigWig:\n",
    "            datagenBigWig(cell_line, chr_number, 0, 1, resolution=1000, alld=True, dtscale=6, saveQ=True, info=file_name)\n",
    "        elif cell_line in cell_lines_HighRes:\n",
    "            datagenHighRes(cell_line, chr_number, 0, 1, resolution=1000, alld=True, dtscale=6, saveQ=True, info=file_name)"
   ]
  },
  {
   "cell_type": "markdown",
   "id": "1a870db3-1cb0-4b6a-9bcc-bc272b9c353c",
   "metadata": {
    "jp-MarkdownHeadingCollapsed": true
   },
   "source": [
    "#### Fitting ####"
   ]
  },
  {
   "cell_type": "code",
   "execution_count": null,
   "id": "0b1e940f-cde7-4ebf-80e5-e88dd1580524",
   "metadata": {},
   "outputs": [],
   "source": [
    "# Model parameters\n",
    "cell_line = \"HeLa-S3\"\n",
    "chr_number = 1\n",
    "hpcQ = False # Option to run in HPC for whole-genome results\n",
    "if hpcQ:\n",
    "    parser = argparse.ArgumentParser()\n",
    "    parser.add_argument(\"-cl\", required=False)\n",
    "    parser.add_argument(\"-cn\", required=False)\n",
    "    args = parser.parse_args()\n",
    "    if len(sys.argv)>1 :\n",
    "        if '-cl' in sys.argv:\n",
    "            cell_line = str(args.cl)\n",
    "        if '-cn' in sys.argv:\n",
    "            chr_number = int(args.cn)\n",
    "\n",
    "chrpos_min = 10000\n",
    "chrpos_max = 20000\n",
    "x = np.linspace(chrpos_min, chrpos_max, chrpos_max - chrpos_min)  # Chromosome positions\n",
    "fork_speed = 1.4 # Fork speed\n",
    "resolution = 1000 # (1 kb)\n",
    "scale_factor = 6 # Scales the data\n",
    "all_dataQ = False # Picks whether to fit an entire genome\n",
    "\n",
    "\n",
    "# Fitting parameters\n",
    "int_width = 2000\n",
    "def int_widthf(time_data): return int(len(time_data)/int_width)\n",
    "fit_step = 2\n",
    "iterations = 100\n",
    "err_threshold = 15\n",
    "\n",
    "# Saving (Warning: replaces existing files)\n",
    "saveQ = False\n",
    "file_name = f'{cell_line}_chr[{chr_number}]' if all_dataQ else f'{cell_line}_chr[{chr_number}]_{chrpos_min}-{chrpos_max}'\n",
    "\n",
    "# Single files\n",
    "sing_filesQ = True\n",
    "if sing_filesQ:\n",
    "    # Data generation\n",
    "    time_data = datagenfs(cell_line, chr_number, chrpos_min, chrpos_max, resolution, all_dataQ, scale_factor, saveQ, file_name)\n",
    "    # Fitting\n",
    "    fire_rates, time_sim = fitfunction(time_data, fork_speed, int_widthf(time_data), fit_step, iterations, err_threshold, saveQ, file_name)\n",
    "\n",
    "# Multiple file fitting (long computation)\n",
    "mult_fileQ = False\n",
    "if mult_fileQ:\n",
    "    # Whole-genome parameters\n",
    "    cell_lines = [\"HeLa-S3\",\"BJ1\",\"IMR90\",\"HUVEC\",\"K562\",\"GM12878\",\"HepG2\",\"MCF-7\"]\n",
    "    chr_range = range(1,23)\n",
    "    for cell_line_i in cell_lines:\n",
    "        for chr_number_i in chr_range:\n",
    "            print(cell_line_i+' chr '+str(chr_number_i)+'/22')\n",
    "            file_name = cell_line_i+'_chr['+str(chr_number_i)+']' if all_dataQ else cell_line_i+'_chr['+str(chr_number_i)+']_'+str(chrpos_min)+'-'+str(chrpos_max)\n",
    "            # Data generation\n",
    "            time_data = datagenfs(cell_line_i, chr_number_i, chrpos_min, chrpos_max, resolution, all_dataQ, scale_factor, saveQ, file_name)\n",
    "            # Fitting\n",
    "            fire_rates, time_sim = fitfunction(time_data, fork_speed, int_widthf(time_data), fit_step, iterations, err_threshold, saveQ, file_name)"
   ]
  },
  {
   "cell_type": "markdown",
   "id": "247dee94-294d-4d3e-8fef-6d47925ab06d",
   "metadata": {},
   "source": [
    "#### bedgraph file generation ####"
   ]
  },
  {
   "cell_type": "code",
   "execution_count": 2,
   "id": "68eee853-1cf3-43f5-a675-2fcdbdf7e736",
   "metadata": {},
   "outputs": [
    {
     "name": "stdout",
     "output_type": "stream",
     "text": [
      "BEDGRAPH file created: data/whole-genome_firing_rates/bedgraph_files/fire_rates_HCT.bedgraphphph\r"
     ]
    }
   ],
   "source": [
    "data_types = ['error', 'fire_rates']\n",
    "\n",
    "cell_lines = [\"HeLa-S3\",\"BJ1\",\"IMR90\",\"HUVEC\",\"K562\",\"GM12878\",\"HepG2\",\"MCF-7\"]\n",
    "genome_build = 'hg19'\n",
    "for data_type in data_types:\n",
    "    for cell_line in cell_lines:\n",
    "        txt_to_bedgraph(cell_line, data_type=data_type, genome_build=genome_build)\n",
    "\n",
    "cell_lines = [\"H1\",\"H9\",\"HCT\"]\n",
    "genome_build = 'hg38'\n",
    "for data_type in data_types:\n",
    "    for cell_line in cell_lines:\n",
    "        txt_to_bedgraph(cell_line, data_type=data_type, genome_build=genome_build)"
   ]
  },
  {
   "cell_type": "markdown",
   "id": "63f9e213-70ff-49d1-995b-ad1ab966580b",
   "metadata": {
    "jp-MarkdownHeadingCollapsed": true
   },
   "source": [
    "#### BCS file generation ####"
   ]
  },
  {
   "cell_type": "code",
   "execution_count": null,
   "id": "cc7a96e7-7703-4403-8316-322e02f70783",
   "metadata": {},
   "outputs": [],
   "source": [
    "# Skip if data/bcs_scripts files already exist\n",
    "# These should be run using Beacon Calculus. HPC recommended.\n",
    "# Single files #\n",
    "sing_filesQ = False\n",
    "if sing_filesQ:\n",
    "\n",
    "    cell_line = \"HeLa-S3\"\n",
    "    chr_number = 1\n",
    "    chrpos_min = 3000\n",
    "    chrpos_max = 3200\n",
    "    fork_speed = 1.4\n",
    "    resolution = 1000 # (1 kb)\n",
    "    fire_rates = np.loadtxt('data/whole-genome_firing_rates/fire_rates_' + cell_line + '_chr[' + str(chr_number) + '].txt', dtype='float64')[chrpos_min:chrpos_max]\n",
    "    \n",
    "    bcs_gen(cell_line, chr_number, chrpos_min, chrpos_max, fork_speed, fire_rates, resolution)\n",
    "\n",
    "# Multiple bcs generation (long computation) #\n",
    "mult_fileQ = False\n",
    "if mult_fileQ:\n",
    "    \n",
    "    cell_lines = [\"HeLa-S3\",\"BJ1\",\"IMR90\",\"HUVEC\",\"K562\",\"GM12878\",\"HepG2\",\"MCF-7\",\"H1\",\"H9\",\"HCT\"]\n",
    "    chr_range = range(1,23)\n",
    "    fork_speed = 1.4\n",
    "    resolution = 1000\n",
    "    \n",
    "    for cell_line_i in cell_lines:\n",
    "        \n",
    "        for chr_number_i in chr_range:\n",
    "            \n",
    "            fire_rates = np.loadtxt('data/whole-genome_firing_rates/fire_rates_' + cell_line_i + '_chr[' + str(chr_number_i) + '].txt', dtype='float64')\n",
    "            int_step = 10000 # sets the number of bcs simulation points\n",
    "            partition_intervals = [[i, min(i + int_step, len(fire_rates))] for i in range(0, len(fire_rates), int_step)]\n",
    "            \n",
    "            for partition_intervals_i in partition_intervals:\n",
    "                \n",
    "                bcs_gen(cell_line_i, chr_number_i, partition_intervals_i[0], partition_intervals_i[1], fork_speed, fire_rates[partition_intervals_i[0]:partition_intervals_i[1]], resolution)"
   ]
  },
  {
   "cell_type": "markdown",
   "id": "b54c62b5-a0e7-41c0-a790-f7458c98cc09",
   "metadata": {
    "jp-MarkdownHeadingCollapsed": true
   },
   "source": [
    "#### BCS simulation output ####"
   ]
  },
  {
   "cell_type": "code",
   "execution_count": null,
   "id": "993e1773-054f-4cbf-a21c-3c147f48ab9e",
   "metadata": {},
   "outputs": [],
   "source": [
    "# Example usage\n",
    "cell_lines = [\"HeLa-S3\"]  #, \"BJ1\", \"IMR90\"] #, \"HUVEC\", \"K562\", \"GM12878\", \"HepG2\", \"MCF-7\"]\n",
    "chr_numbers = [1]\n",
    "sim_number=500\n",
    "\n",
    "process_intervals(cell_lines, chr_numbers, sim_number=sim_number)"
   ]
  },
  {
   "cell_type": "code",
   "execution_count": 9,
   "id": "59a2d725-d80f-4761-b6ef-4dc1f2776ce0",
   "metadata": {},
   "outputs": [],
   "source": [
    "# Join all 10,000 kb files into one\n",
    "cell_line = \"HeLa-S3\"\n",
    "chr_number = 1\n",
    "\n",
    "join_files(cell_line, chr_number, \"fork_directionality\")"
   ]
  },
  {
   "cell_type": "code",
   "execution_count": 4,
   "id": "bf24696c-b74f-4ddc-95eb-1b100af815f9",
   "metadata": {},
   "outputs": [],
   "source": [
    "cell_lines = [\"HeLa-S3\"]  #, \"BJ1\", \"IMR90\"] #, \"HUVEC\", \"K562\", \"GM12878\", \"HepG2\", \"MCF-7\"]\n",
    "chr_numbers = [1]\n",
    "\n",
    "compute_interorigin_intervals(cell_lines, chr_numbers)"
   ]
  },
  {
   "cell_type": "markdown",
   "id": "48d31194-6c34-44d9-8a9d-0259e917c88f",
   "metadata": {
    "jp-MarkdownHeadingCollapsed": true
   },
   "source": [
    "#### Genome location generation ####"
   ]
  },
  {
   "cell_type": "code",
   "execution_count": 2,
   "id": "ce258a2e-587b-4bae-a839-8dc985d2aa08",
   "metadata": {},
   "outputs": [],
   "source": [
    "# Centromeres and telomeres\n",
    "for chr_number in range(1,23):\n",
    "    gen_positions_centromere_telomeres(chr_number)"
   ]
  },
  {
   "cell_type": "code",
   "execution_count": 2,
   "id": "5bd856e8-73ba-433f-a01a-088053ec12ec",
   "metadata": {},
   "outputs": [],
   "source": [
    "# Fragile sites\n",
    "for chr_number in range(1,23):\n",
    "    for site_letter in list(string.ascii_uppercase[:13]):\n",
    "        gen_positions_fragile_sites(chr_number, site_letter)"
   ]
  },
  {
   "cell_type": "code",
   "execution_count": 2,
   "id": "ec77cdba-0367-4818-817b-91069df29e7f",
   "metadata": {},
   "outputs": [],
   "source": [
    "# Base regions\n",
    "# Requires hg38.fa.gz from http://hgdownload.soe.ucsc.edu/goldenPath/hg38/bigZips/hg38.fa.gz\n",
    "local_genome_file = 'data/genome_regions/reference_genome/hg38.fa.gz'\n",
    "gen_positions_bases(local_genome_file, chr_lengths)"
   ]
  },
  {
   "cell_type": "markdown",
   "id": "24948334-1290-45de-827c-a032172d2471",
   "metadata": {},
   "source": [
    "#### GRO-Seq generation ####"
   ]
  },
  {
   "cell_type": "code",
   "execution_count": null,
   "id": "8b5a559f-5db9-4b0e-bbdd-21fbc4ebea19",
   "metadata": {},
   "outputs": [],
   "source": [
    "# Requires BED files from https://www.ncbi.nlm.nih.gov/geo/query/acc.cgi?acc=GSM340901 (IMR90)"
   ]
  }
 ],
 "metadata": {
  "kernelspec": {
   "display_name": "Python 3 (ipykernel)",
   "language": "python",
   "name": "python3"
  },
  "language_info": {
   "codemirror_mode": {
    "name": "ipython",
    "version": 3
   },
   "file_extension": ".py",
   "mimetype": "text/x-python",
   "name": "python",
   "nbconvert_exporter": "python",
   "pygments_lexer": "ipython3",
   "version": "3.12.3"
  }
 },
 "nbformat": 4,
 "nbformat_minor": 5
}
